{
 "cells": [
  {
   "cell_type": "code",
   "execution_count": 1,
   "id": "initial_id",
   "metadata": {
    "ExecuteTime": {
     "end_time": "2025-02-07T09:27:08.456990Z",
     "start_time": "2025-02-07T09:27:06.820033Z"
    }
   },
   "outputs": [],
   "source": [
    "import pandas as pd\n",
    "from datasets import load_dataset\n",
    "from tqdm import tqdm\n",
    "import matplotlib.pyplot as plt\n",
    "from sklearn.model_selection import train_test_split\n",
    "\n",
    "tqdm.pandas()"
   ]
  },
  {
   "cell_type": "markdown",
   "id": "837c7a23-b0b9-4c28-b1f4-3bda8783d790",
   "metadata": {},
   "source": [
    "# Amazon Reviews Dataset Preparation"
   ]
  },
  {
   "cell_type": "markdown",
   "id": "d95fb0fc-a97d-4537-8fb6-c7b0600dffcd",
   "metadata": {},
   "source": [
    "## Loading dataset"
   ]
  },
  {
   "cell_type": "code",
   "execution_count": 2,
   "id": "dacdc299692eea84",
   "metadata": {
    "ExecuteTime": {
     "end_time": "2025-02-07T09:28:05.620296Z",
     "start_time": "2025-02-07T09:27:17.154455Z"
    }
   },
   "outputs": [],
   "source": [
    "userReviews = load_dataset('McAuley-Lab/Amazon-Reviews-2023','raw_review_Office_Products',trust_remote_code=True)\n",
    "#metadata = load_dataset('McAuley-Lab/Amazon-Reviews-2023','raw_meta_Office_Products',split='full',trust_remote_code=True)"
   ]
  },
  {
   "cell_type": "code",
   "execution_count": 3,
   "id": "f8ec31c5-0e81-4dd9-b66b-f86271688d2a",
   "metadata": {},
   "outputs": [
    {
     "data": {
      "text/html": [
       "<div>\n",
       "<style scoped>\n",
       "    .dataframe tbody tr th:only-of-type {\n",
       "        vertical-align: middle;\n",
       "    }\n",
       "\n",
       "    .dataframe tbody tr th {\n",
       "        vertical-align: top;\n",
       "    }\n",
       "\n",
       "    .dataframe thead th {\n",
       "        text-align: right;\n",
       "    }\n",
       "</style>\n",
       "<table border=\"1\" class=\"dataframe\">\n",
       "  <thead>\n",
       "    <tr style=\"text-align: right;\">\n",
       "      <th></th>\n",
       "      <th>rating</th>\n",
       "      <th>title</th>\n",
       "      <th>text</th>\n",
       "      <th>images</th>\n",
       "      <th>asin</th>\n",
       "      <th>parent_asin</th>\n",
       "      <th>user_id</th>\n",
       "      <th>timestamp</th>\n",
       "      <th>helpful_vote</th>\n",
       "      <th>verified_purchase</th>\n",
       "    </tr>\n",
       "  </thead>\n",
       "  <tbody>\n",
       "    <tr>\n",
       "      <th>0</th>\n",
       "      <td>5.0</td>\n",
       "      <td>Pretty &amp; I love it!</td>\n",
       "      <td>Lovely ink. Writes well. The right amount of w...</td>\n",
       "      <td>[]</td>\n",
       "      <td>B01AHHL4X2</td>\n",
       "      <td>B01MZ3SD2X</td>\n",
       "      <td>AFKZENTNBQ7A7V7UXW5JJI6UGRYQ</td>\n",
       "      <td>1677939345945</td>\n",
       "      <td>0</td>\n",
       "      <td>True</td>\n",
       "    </tr>\n",
       "    <tr>\n",
       "      <th>1</th>\n",
       "      <td>4.0</td>\n",
       "      <td>2 excellent 1 extremely dry (blue)</td>\n",
       "      <td>Overall I’m pretty happy with this purchase bc...</td>\n",
       "      <td>[]</td>\n",
       "      <td>B08L6H23JZ</td>\n",
       "      <td>B08L6H23JZ</td>\n",
       "      <td>AFKZENTNBQ7A7V7UXW5JJI6UGRYQ</td>\n",
       "      <td>1677939160682</td>\n",
       "      <td>0</td>\n",
       "      <td>True</td>\n",
       "    </tr>\n",
       "    <tr>\n",
       "      <th>2</th>\n",
       "      <td>1.0</td>\n",
       "      <td>I don’t get the reviews. Mine are garbage.</td>\n",
       "      <td>[[VIDEOID:63276c19932aa4f3687042b8b9f8613c]] U...</td>\n",
       "      <td>[]</td>\n",
       "      <td>B07JDZ5J46</td>\n",
       "      <td>B07JDZ5J46</td>\n",
       "      <td>AFKZENTNBQ7A7V7UXW5JJI6UGRYQ</td>\n",
       "      <td>1660188831933</td>\n",
       "      <td>2</td>\n",
       "      <td>True</td>\n",
       "    </tr>\n",
       "    <tr>\n",
       "      <th>3</th>\n",
       "      <td>4.0</td>\n",
       "      <td>Ordering Ink online: never a good idea I guess.</td>\n",
       "      <td>It’s a beautiful color, but even though it had...</td>\n",
       "      <td>[{'attachment_type': 'IMAGE', 'large_image_url...</td>\n",
       "      <td>B004MNX7EW</td>\n",
       "      <td>B07BR2PBJN</td>\n",
       "      <td>AFKZENTNBQ7A7V7UXW5JJI6UGRYQ</td>\n",
       "      <td>1659806066713</td>\n",
       "      <td>0</td>\n",
       "      <td>True</td>\n",
       "    </tr>\n",
       "    <tr>\n",
       "      <th>4</th>\n",
       "      <td>3.0</td>\n",
       "      <td>Mine are iffy at best.</td>\n",
       "      <td>Idk if I just got a bad batch which is possibl...</td>\n",
       "      <td>[]</td>\n",
       "      <td>B019YLRFFS</td>\n",
       "      <td>B097SFY5ZS</td>\n",
       "      <td>AFKZENTNBQ7A7V7UXW5JJI6UGRYQ</td>\n",
       "      <td>1659799390978</td>\n",
       "      <td>0</td>\n",
       "      <td>True</td>\n",
       "    </tr>\n",
       "  </tbody>\n",
       "</table>\n",
       "</div>"
      ],
      "text/plain": [
       "   rating                                            title  \\\n",
       "0     5.0                              Pretty & I love it!   \n",
       "1     4.0               2 excellent 1 extremely dry (blue)   \n",
       "2     1.0       I don’t get the reviews. Mine are garbage.   \n",
       "3     4.0  Ordering Ink online: never a good idea I guess.   \n",
       "4     3.0                           Mine are iffy at best.   \n",
       "\n",
       "                                                text  \\\n",
       "0  Lovely ink. Writes well. The right amount of w...   \n",
       "1  Overall I’m pretty happy with this purchase bc...   \n",
       "2  [[VIDEOID:63276c19932aa4f3687042b8b9f8613c]] U...   \n",
       "3  It’s a beautiful color, but even though it had...   \n",
       "4  Idk if I just got a bad batch which is possibl...   \n",
       "\n",
       "                                              images        asin parent_asin  \\\n",
       "0                                                 []  B01AHHL4X2  B01MZ3SD2X   \n",
       "1                                                 []  B08L6H23JZ  B08L6H23JZ   \n",
       "2                                                 []  B07JDZ5J46  B07JDZ5J46   \n",
       "3  [{'attachment_type': 'IMAGE', 'large_image_url...  B004MNX7EW  B07BR2PBJN   \n",
       "4                                                 []  B019YLRFFS  B097SFY5ZS   \n",
       "\n",
       "                        user_id      timestamp  helpful_vote  \\\n",
       "0  AFKZENTNBQ7A7V7UXW5JJI6UGRYQ  1677939345945             0   \n",
       "1  AFKZENTNBQ7A7V7UXW5JJI6UGRYQ  1677939160682             0   \n",
       "2  AFKZENTNBQ7A7V7UXW5JJI6UGRYQ  1660188831933             2   \n",
       "3  AFKZENTNBQ7A7V7UXW5JJI6UGRYQ  1659806066713             0   \n",
       "4  AFKZENTNBQ7A7V7UXW5JJI6UGRYQ  1659799390978             0   \n",
       "\n",
       "   verified_purchase  \n",
       "0               True  \n",
       "1               True  \n",
       "2               True  \n",
       "3               True  \n",
       "4               True  "
      ]
     },
     "execution_count": 3,
     "metadata": {},
     "output_type": "execute_result"
    }
   ],
   "source": [
    "df_full = userReviews['full'].to_pandas()\n",
    "df_full.head()"
   ]
  },
  {
   "cell_type": "markdown",
   "id": "cb7a6fc9-57bf-4077-94e2-39cef5338f8e",
   "metadata": {},
   "source": [
    "## Filtering"
   ]
  },
  {
   "cell_type": "code",
   "execution_count": 4,
   "id": "a67dab7dae5ee25a",
   "metadata": {
    "ExecuteTime": {
     "end_time": "2025-02-06T10:45:06.491339Z",
     "start_time": "2025-02-06T10:43:35.087377Z"
    }
   },
   "outputs": [
    {
     "name": "stderr",
     "output_type": "stream",
     "text": [
      "100%|███████████████████████████████████████████████████████████████████████████████████████████████████████████████████████████████████████████████████████████████████| 12845712/12845712 [00:05<00:00, 2348542.04it/s]\n"
     ]
    }
   ],
   "source": [
    "### Extracting (user,query,item) triplets\n",
    "\n",
    "# Let's say we only keep if rating > 3.\n",
    "# ~200 reviews are below or = 3 and ~500 are above 3.\n",
    "\n",
    "def min_rating(row):\n",
    "    return row > 3\n",
    "\n",
    "df_triplets = df_full[df_full['rating'].progress_apply(min_rating)][['user_id','asin','text']]"
   ]
  },
  {
   "cell_type": "code",
   "execution_count": 5,
   "id": "780abc2c-34f5-4b56-86a3-8b803de88b83",
   "metadata": {},
   "outputs": [
    {
     "data": {
      "text/html": [
       "<div>\n",
       "<style scoped>\n",
       "    .dataframe tbody tr th:only-of-type {\n",
       "        vertical-align: middle;\n",
       "    }\n",
       "\n",
       "    .dataframe tbody tr th {\n",
       "        vertical-align: top;\n",
       "    }\n",
       "\n",
       "    .dataframe thead th {\n",
       "        text-align: right;\n",
       "    }\n",
       "</style>\n",
       "<table border=\"1\" class=\"dataframe\">\n",
       "  <thead>\n",
       "    <tr style=\"text-align: right;\">\n",
       "      <th></th>\n",
       "      <th>user_id</th>\n",
       "      <th>asin</th>\n",
       "      <th>text</th>\n",
       "    </tr>\n",
       "  </thead>\n",
       "  <tbody>\n",
       "    <tr>\n",
       "      <th>0</th>\n",
       "      <td>AFKZENTNBQ7A7V7UXW5JJI6UGRYQ</td>\n",
       "      <td>B01AHHL4X2</td>\n",
       "      <td>Lovely ink. Writes well. The right amount of w...</td>\n",
       "    </tr>\n",
       "    <tr>\n",
       "      <th>1</th>\n",
       "      <td>AFKZENTNBQ7A7V7UXW5JJI6UGRYQ</td>\n",
       "      <td>B08L6H23JZ</td>\n",
       "      <td>Overall I’m pretty happy with this purchase bc...</td>\n",
       "    </tr>\n",
       "    <tr>\n",
       "      <th>3</th>\n",
       "      <td>AFKZENTNBQ7A7V7UXW5JJI6UGRYQ</td>\n",
       "      <td>B004MNX7EW</td>\n",
       "      <td>It’s a beautiful color, but even though it had...</td>\n",
       "    </tr>\n",
       "    <tr>\n",
       "      <th>8</th>\n",
       "      <td>AFKZENTNBQ7A7V7UXW5JJI6UGRYQ</td>\n",
       "      <td>B00KG08EYS</td>\n",
       "      <td>Literally one of the worst packing jobs I’ve s...</td>\n",
       "    </tr>\n",
       "    <tr>\n",
       "      <th>12</th>\n",
       "      <td>AFKZENTNBQ7A7V7UXW5JJI6UGRYQ</td>\n",
       "      <td>B00FWRVUJ6</td>\n",
       "      <td>New to this brand &amp; as a huge fan &amp; collector ...</td>\n",
       "    </tr>\n",
       "  </tbody>\n",
       "</table>\n",
       "</div>"
      ],
      "text/plain": [
       "                         user_id        asin  \\\n",
       "0   AFKZENTNBQ7A7V7UXW5JJI6UGRYQ  B01AHHL4X2   \n",
       "1   AFKZENTNBQ7A7V7UXW5JJI6UGRYQ  B08L6H23JZ   \n",
       "3   AFKZENTNBQ7A7V7UXW5JJI6UGRYQ  B004MNX7EW   \n",
       "8   AFKZENTNBQ7A7V7UXW5JJI6UGRYQ  B00KG08EYS   \n",
       "12  AFKZENTNBQ7A7V7UXW5JJI6UGRYQ  B00FWRVUJ6   \n",
       "\n",
       "                                                 text  \n",
       "0   Lovely ink. Writes well. The right amount of w...  \n",
       "1   Overall I’m pretty happy with this purchase bc...  \n",
       "3   It’s a beautiful color, but even though it had...  \n",
       "8   Literally one of the worst packing jobs I’ve s...  \n",
       "12  New to this brand & as a huge fan & collector ...  "
      ]
     },
     "execution_count": 5,
     "metadata": {},
     "output_type": "execute_result"
    }
   ],
   "source": [
    "df_triplets.head()"
   ]
  },
  {
   "cell_type": "code",
   "execution_count": 6,
   "id": "86c482a1-c898-4721-8ef9-bf106c06e876",
   "metadata": {},
   "outputs": [],
   "source": [
    "def get_len(row):\n",
    "    return len(row.split())\n",
    "\n",
    "df_triplets['len'] = df_triplets['text'].apply(get_len)"
   ]
  },
  {
   "cell_type": "code",
   "execution_count": 7,
   "id": "e13aeeb16c4e099a",
   "metadata": {
    "ExecuteTime": {
     "end_time": "2025-02-06T10:51:43.630821Z",
     "start_time": "2025-02-06T10:45:08.094189Z"
    }
   },
   "outputs": [
    {
     "name": "stderr",
     "output_type": "stream",
     "text": [
      "100%|███████████████████████████████████████████████████████████████████████████████████████████████████████████████████████████████████████████████████████████████████| 10103878/10103878 [00:03<00:00, 2620943.38it/s]\n"
     ]
    }
   ],
   "source": [
    "# Let's filter also by length of the review\n",
    "# We will keep only reviews with more than 5 words\n",
    "# This drops about 100k reviews\n",
    "\n",
    "def min_size(row):\n",
    "    return row > 5\n",
    "\n",
    "df_triplets = df_triplets[df_triplets['len'].progress_apply(min_size)]"
   ]
  },
  {
   "cell_type": "code",
   "execution_count": 8,
   "id": "32f20694-4002-4e36-948e-8a1117ed4f68",
   "metadata": {},
   "outputs": [
    {
     "name": "stdout",
     "output_type": "stream",
     "text": [
      "Duplicates:  77958\n"
     ]
    }
   ],
   "source": [
    "before_len = len(df_triplets)\n",
    "\n",
    "df_triplets = df_triplets.drop_duplicates(subset=['user_id', 'asin', 'text'])\n",
    "\n",
    "print(\"Duplicates: \", before_len - len(df_triplets))"
   ]
  },
  {
   "cell_type": "code",
   "execution_count": 9,
   "id": "5523f688-211a-4409-bdad-cf328a53a2a9",
   "metadata": {},
   "outputs": [
    {
     "data": {
      "text/plain": [
       "(array([7.727468e+06, 1.148330e+05, 1.770400e+04, 5.080000e+03,\n",
       "        1.799000e+03, 7.970000e+02, 3.480000e+02, 1.810000e+02,\n",
       "        1.020000e+02, 6.000000e+01, 3.300000e+01, 3.000000e+01,\n",
       "        1.400000e+01, 8.000000e+00, 1.100000e+01, 7.000000e+00,\n",
       "        7.000000e+00, 4.000000e+00, 2.000000e+00, 1.000000e+00,\n",
       "        5.000000e+00, 0.000000e+00, 3.000000e+00, 0.000000e+00,\n",
       "        0.000000e+00, 0.000000e+00, 3.000000e+00, 1.000000e+00,\n",
       "        0.000000e+00, 1.000000e+00]),\n",
       " array([   6.        ,  179.73333333,  353.46666667,  527.2       ,\n",
       "         700.93333333,  874.66666667, 1048.4       , 1222.13333333,\n",
       "        1395.86666667, 1569.6       , 1743.33333333, 1917.06666667,\n",
       "        2090.8       , 2264.53333333, 2438.26666667, 2612.        ,\n",
       "        2785.73333333, 2959.46666667, 3133.2       , 3306.93333333,\n",
       "        3480.66666667, 3654.4       , 3828.13333333, 4001.86666667,\n",
       "        4175.6       , 4349.33333333, 4523.06666667, 4696.8       ,\n",
       "        4870.53333333, 5044.26666667, 5218.        ]),\n",
       " <BarContainer object of 30 artists>)"
      ]
     },
     "execution_count": 9,
     "metadata": {},
     "output_type": "execute_result"
    },
    {
     "data": {
      "image/png": "[encoded data removed]",
      "text/plain": [
       "<Figure size 640x480 with 1 Axes>"
      ]
     },
     "metadata": {},
     "output_type": "display_data"
    }
   ],
   "source": [
    "plt.hist(df_triplets['len'], bins=30)"
   ]
  },
  {
   "cell_type": "code",
   "execution_count": 10,
   "id": "5d7f6176-f7b7-44c1-b455-965b07bcab2c",
   "metadata": {},
   "outputs": [
    {
     "data": {
      "text/html": [
       "<div>\n",
       "<style scoped>\n",
       "    .dataframe tbody tr th:only-of-type {\n",
       "        vertical-align: middle;\n",
       "    }\n",
       "\n",
       "    .dataframe tbody tr th {\n",
       "        vertical-align: top;\n",
       "    }\n",
       "\n",
       "    .dataframe thead th {\n",
       "        text-align: right;\n",
       "    }\n",
       "</style>\n",
       "<table border=\"1\" class=\"dataframe\">\n",
       "  <thead>\n",
       "    <tr style=\"text-align: right;\">\n",
       "      <th></th>\n",
       "      <th>user_id</th>\n",
       "      <th>asin</th>\n",
       "      <th>text</th>\n",
       "      <th>len</th>\n",
       "    </tr>\n",
       "  </thead>\n",
       "  <tbody>\n",
       "    <tr>\n",
       "      <th>3</th>\n",
       "      <td>AFKZENTNBQ7A7V7UXW5JJI6UGRYQ</td>\n",
       "      <td>B004MNX7EW</td>\n",
       "      <td>It’s a beautiful color, but even though it had...</td>\n",
       "      <td>413</td>\n",
       "    </tr>\n",
       "    <tr>\n",
       "      <th>8</th>\n",
       "      <td>AFKZENTNBQ7A7V7UXW5JJI6UGRYQ</td>\n",
       "      <td>B00KG08EYS</td>\n",
       "      <td>Literally one of the worst packing jobs I’ve s...</td>\n",
       "      <td>242</td>\n",
       "    </tr>\n",
       "    <tr>\n",
       "      <th>12</th>\n",
       "      <td>AFKZENTNBQ7A7V7UXW5JJI6UGRYQ</td>\n",
       "      <td>B00FWRVUJ6</td>\n",
       "      <td>New to this brand &amp; as a huge fan &amp; collector ...</td>\n",
       "      <td>231</td>\n",
       "    </tr>\n",
       "    <tr>\n",
       "      <th>14</th>\n",
       "      <td>AFKZENTNBQ7A7V7UXW5JJI6UGRYQ</td>\n",
       "      <td>B09KLJ9NJH</td>\n",
       "      <td>It’s a nice heavy journal with thick pages.  T...</td>\n",
       "      <td>201</td>\n",
       "    </tr>\n",
       "    <tr>\n",
       "      <th>15</th>\n",
       "      <td>AFKZENTNBQ7A7V7UXW5JJI6UGRYQ</td>\n",
       "      <td>B06XY7YNHG</td>\n",
       "      <td>My review is whacked bc I received the wrong p...</td>\n",
       "      <td>245</td>\n",
       "    </tr>\n",
       "    <tr>\n",
       "      <th>...</th>\n",
       "      <td>...</td>\n",
       "      <td>...</td>\n",
       "      <td>...</td>\n",
       "      <td>...</td>\n",
       "    </tr>\n",
       "    <tr>\n",
       "      <th>12844841</th>\n",
       "      <td>AGJL3GIHUNBLD7ZWFFJI3L5HUOBQ</td>\n",
       "      <td>B006TM8L3Q</td>\n",
       "      <td>These pens are absolutely fabulous. And here's...</td>\n",
       "      <td>268</td>\n",
       "    </tr>\n",
       "    <tr>\n",
       "      <th>12845309</th>\n",
       "      <td>AHGHQUIU3CQOCBNBCQ5M22IIDBMQ</td>\n",
       "      <td>B001TQ854C</td>\n",
       "      <td>I bought this sharpener two years ago.  Like a...</td>\n",
       "      <td>203</td>\n",
       "    </tr>\n",
       "    <tr>\n",
       "      <th>12845372</th>\n",
       "      <td>AG7QWNXWVY7AGICYUDJAMTGVQHFQ</td>\n",
       "      <td>B00P2USAQY</td>\n",
       "      <td>I have an IKEA desk that is a few years old. I...</td>\n",
       "      <td>246</td>\n",
       "    </tr>\n",
       "    <tr>\n",
       "      <th>12845498</th>\n",
       "      <td>AG6WX6ENBWPSM6BK32JFWLVRU3WQ</td>\n",
       "      <td>B00000J52W</td>\n",
       "      <td>I have to admit, I was a bit sceptical when I ...</td>\n",
       "      <td>301</td>\n",
       "    </tr>\n",
       "    <tr>\n",
       "      <th>12845510</th>\n",
       "      <td>AFOTWFEF2WEFJ7P7YPD53OAU7GAA</td>\n",
       "      <td>B076BKJCK3</td>\n",
       "      <td>This is a great planner! I am a college studen...</td>\n",
       "      <td>212</td>\n",
       "    </tr>\n",
       "  </tbody>\n",
       "</table>\n",
       "<p>109033 rows × 4 columns</p>\n",
       "</div>"
      ],
      "text/plain": [
       "                               user_id        asin  \\\n",
       "3         AFKZENTNBQ7A7V7UXW5JJI6UGRYQ  B004MNX7EW   \n",
       "8         AFKZENTNBQ7A7V7UXW5JJI6UGRYQ  B00KG08EYS   \n",
       "12        AFKZENTNBQ7A7V7UXW5JJI6UGRYQ  B00FWRVUJ6   \n",
       "14        AFKZENTNBQ7A7V7UXW5JJI6UGRYQ  B09KLJ9NJH   \n",
       "15        AFKZENTNBQ7A7V7UXW5JJI6UGRYQ  B06XY7YNHG   \n",
       "...                                ...         ...   \n",
       "12844841  AGJL3GIHUNBLD7ZWFFJI3L5HUOBQ  B006TM8L3Q   \n",
       "12845309  AHGHQUIU3CQOCBNBCQ5M22IIDBMQ  B001TQ854C   \n",
       "12845372  AG7QWNXWVY7AGICYUDJAMTGVQHFQ  B00P2USAQY   \n",
       "12845498  AG6WX6ENBWPSM6BK32JFWLVRU3WQ  B00000J52W   \n",
       "12845510  AFOTWFEF2WEFJ7P7YPD53OAU7GAA  B076BKJCK3   \n",
       "\n",
       "                                                       text  len  \n",
       "3         It’s a beautiful color, but even though it had...  413  \n",
       "8         Literally one of the worst packing jobs I’ve s...  242  \n",
       "12        New to this brand & as a huge fan & collector ...  231  \n",
       "14        It’s a nice heavy journal with thick pages.  T...  201  \n",
       "15        My review is whacked bc I received the wrong p...  245  \n",
       "...                                                     ...  ...  \n",
       "12844841  These pens are absolutely fabulous. And here's...  268  \n",
       "12845309  I bought this sharpener two years ago.  Like a...  203  \n",
       "12845372  I have an IKEA desk that is a few years old. I...  246  \n",
       "12845498  I have to admit, I was a bit sceptical when I ...  301  \n",
       "12845510  This is a great planner! I am a college studen...  212  \n",
       "\n",
       "[109033 rows x 4 columns]"
      ]
     },
     "execution_count": 10,
     "metadata": {},
     "output_type": "execute_result"
    }
   ],
   "source": [
    "df_triplets[df_triplets['len'] > 200]"
   ]
  },
  {
   "cell_type": "code",
   "execution_count": 11,
   "id": "5d140432-d565-4681-9e10-30a1fe4ce58a",
   "metadata": {},
   "outputs": [
    {
     "name": "stderr",
     "output_type": "stream",
     "text": [
      "100%|███████████████████████████████████████████████████████████████████████████████████████████████████████████████████████████████████████████████████████████████████████| 7822895/7822895 [01:46<00:00, 73413.57it/s]\n",
      "100%|██████████████████████████████████████████████████████████████████████████████████████████████████████████████████████████████████████████████████████████████████████| 7868502/7868502 [00:53<00:00, 146113.86it/s]\n"
     ]
    },
    {
     "data": {
      "text/plain": [
       "7822895"
      ]
     },
     "execution_count": 11,
     "metadata": {},
     "output_type": "execute_result"
    }
   ],
   "source": [
    "df_g = df_triplets.groupby(by=['text', 'user_id'])['asin'].progress_apply(lambda x: list(x)[:1]).reset_index()\n",
    "\n",
    "valid_rows = {}\n",
    "\n",
    "for t, u, a in zip(df_g['text'], df_g['user_id'], df_g['asin']):\n",
    "    a = a[0]\n",
    "    valid_rows[f\"{t}_{u}_{a}\"] = 0\n",
    "\n",
    "def is_valid(row):\n",
    "    t = row['text']\n",
    "    u = row['user_id']\n",
    "    a = row['asin']\n",
    "    k = f\"{t}_{u}_{a}\"\n",
    "    if k in valid_rows:\n",
    "        return True\n",
    "    return False\n",
    "\n",
    "df_triplets = df_triplets[df_triplets.progress_apply(is_valid, axis=1)]\n",
    "len(df_triplets)"
   ]
  },
  {
   "cell_type": "code",
   "execution_count": 12,
   "id": "d5f3572d-9e70-44ba-9786-1d01b3d188bc",
   "metadata": {
    "scrolled": true
   },
   "outputs": [
    {
     "name": "stdout",
     "output_type": "stream",
     "text": [
      "Valid users:  166396\n",
      "Filtered by user:  1357208\n",
      "---\n",
      "Valid items:  61636\n",
      "Filtered by item:  960163\n",
      "---\n",
      "Valid users:  88731\n",
      "Filtered by user:  719584\n",
      "---\n",
      "Valid items:  46335\n",
      "Filtered by item:  670310\n",
      "---\n",
      "Valid users:  76382\n",
      "Filtered by user:  623629\n",
      "---\n",
      "Valid items:  43084\n",
      "Filtered by item:  611367\n",
      "---\n",
      "Valid users:  73080\n",
      "Filtered by user:  598392\n",
      "---\n",
      "Valid items:  42138\n",
      "Filtered by item:  594679\n",
      "---\n",
      "Valid users:  72024\n",
      "Filtered by user:  590484\n",
      "---\n",
      "Valid items:  41823\n",
      "Filtered by item:  589229\n",
      "---\n",
      "Valid users:  71717\n",
      "Filtered by user:  588002\n",
      "---\n",
      "Valid items:  41728\n",
      "Filtered by item:  587623\n",
      "---\n",
      "Valid users:  71600\n",
      "Filtered by user:  587155\n",
      "---\n",
      "Valid items:  41695\n",
      "Filtered by item:  587023\n",
      "---\n",
      "Valid users:  71556\n",
      "Filtered by user:  586847\n",
      "---\n",
      "Valid items:  41683\n",
      "Filtered by item:  586799\n",
      "---\n",
      "Valid users:  71540\n",
      "Filtered by user:  586735\n",
      "---\n",
      "Valid items:  41681\n",
      "Filtered by item:  586727\n",
      "---\n",
      "Valid users:  71538\n",
      "Filtered by user:  586719\n",
      "---\n",
      "Valid items:  41681\n",
      "Filtered by item:  586719\n",
      "---\n",
      "Valid users:  71538\n",
      "Filtered by user:  586719\n",
      "---\n",
      "Valid items:  41681\n",
      "Filtered by item:  586719\n",
      "---\n"
     ]
    }
   ],
   "source": [
    "before_len = 0\n",
    "\n",
    "while before_len != len(df_triplets):\n",
    "\n",
    "    before_len = len(df_triplets)\n",
    "\n",
    "    valid_users = df_triplets.groupby(by=['user_id']).count().reset_index()\n",
    "    valid_users = valid_users[valid_users['len'] >= 5]['user_id']\n",
    "    print(\"Valid users: \", len(valid_users))\n",
    "\n",
    "    df_triplets = df_triplets[df_triplets['user_id'].isin(valid_users)]\n",
    "    print(\"Filtered by user: \", len(df_triplets))\n",
    "    print(\"---\")\n",
    "\n",
    "    valid_items = df_triplets.groupby(by=['asin']).count().reset_index()\n",
    "    valid_items = valid_items[valid_items['len'] >= 5]['asin']\n",
    "    print(\"Valid items: \", len(valid_items))\n",
    "\n",
    "    df_triplets = df_triplets[df_triplets['asin'].isin(valid_items)]\n",
    "    print(\"Filtered by item: \", len(df_triplets))\n",
    "    print(\"---\")"
   ]
  },
  {
   "cell_type": "code",
   "execution_count": 13,
   "id": "15716b5e904ada00",
   "metadata": {
    "ExecuteTime": {
     "end_time": "2025-02-06T12:31:16.675366Z",
     "start_time": "2025-02-06T12:31:11.083371Z"
    }
   },
   "outputs": [],
   "source": [
    "df_triplets.to_csv('./data/amazon.tsv',sep='\\t',index=False)"
   ]
  },
  {
   "cell_type": "markdown",
   "id": "bed431ee-0bb6-4093-badf-c432722ac444",
   "metadata": {},
   "source": [
    "## Split into train, test, val"
   ]
  },
  {
   "cell_type": "code",
   "execution_count": 14,
   "id": "c8fd28bb-b302-4915-aa9c-77b398d9969e",
   "metadata": {},
   "outputs": [
    {
     "data": {
      "text/html": [
       "<div>\n",
       "<style scoped>\n",
       "    .dataframe tbody tr th:only-of-type {\n",
       "        vertical-align: middle;\n",
       "    }\n",
       "\n",
       "    .dataframe tbody tr th {\n",
       "        vertical-align: top;\n",
       "    }\n",
       "\n",
       "    .dataframe thead th {\n",
       "        text-align: right;\n",
       "    }\n",
       "</style>\n",
       "<table border=\"1\" class=\"dataframe\">\n",
       "  <thead>\n",
       "    <tr style=\"text-align: right;\">\n",
       "      <th></th>\n",
       "      <th>user_id</th>\n",
       "      <th>asin</th>\n",
       "      <th>text</th>\n",
       "      <th>len</th>\n",
       "    </tr>\n",
       "  </thead>\n",
       "  <tbody>\n",
       "    <tr>\n",
       "      <th>0</th>\n",
       "      <td>AFKZENTNBQ7A7V7UXW5JJI6UGRYQ</td>\n",
       "      <td>B01AHHL4X2</td>\n",
       "      <td>Lovely ink. Writes well. The right amount of w...</td>\n",
       "      <td>41</td>\n",
       "    </tr>\n",
       "    <tr>\n",
       "      <th>8</th>\n",
       "      <td>AFKZENTNBQ7A7V7UXW5JJI6UGRYQ</td>\n",
       "      <td>B00KG08EYS</td>\n",
       "      <td>Literally one of the worst packing jobs I’ve s...</td>\n",
       "      <td>242</td>\n",
       "    </tr>\n",
       "    <tr>\n",
       "      <th>12</th>\n",
       "      <td>AFKZENTNBQ7A7V7UXW5JJI6UGRYQ</td>\n",
       "      <td>B00FWRVUJ6</td>\n",
       "      <td>New to this brand &amp; as a huge fan &amp; collector ...</td>\n",
       "      <td>231</td>\n",
       "    </tr>\n",
       "    <tr>\n",
       "      <th>15</th>\n",
       "      <td>AFKZENTNBQ7A7V7UXW5JJI6UGRYQ</td>\n",
       "      <td>B06XY7YNHG</td>\n",
       "      <td>My review is whacked bc I received the wrong p...</td>\n",
       "      <td>245</td>\n",
       "    </tr>\n",
       "    <tr>\n",
       "      <th>17</th>\n",
       "      <td>AFKZENTNBQ7A7V7UXW5JJI6UGRYQ</td>\n",
       "      <td>B07T4NX5F6</td>\n",
       "      <td>I’m a book freak &amp; I adore mine!  I use founta...</td>\n",
       "      <td>212</td>\n",
       "    </tr>\n",
       "  </tbody>\n",
       "</table>\n",
       "</div>"
      ],
      "text/plain": [
       "                         user_id        asin  \\\n",
       "0   AFKZENTNBQ7A7V7UXW5JJI6UGRYQ  B01AHHL4X2   \n",
       "8   AFKZENTNBQ7A7V7UXW5JJI6UGRYQ  B00KG08EYS   \n",
       "12  AFKZENTNBQ7A7V7UXW5JJI6UGRYQ  B00FWRVUJ6   \n",
       "15  AFKZENTNBQ7A7V7UXW5JJI6UGRYQ  B06XY7YNHG   \n",
       "17  AFKZENTNBQ7A7V7UXW5JJI6UGRYQ  B07T4NX5F6   \n",
       "\n",
       "                                                 text  len  \n",
       "0   Lovely ink. Writes well. The right amount of w...   41  \n",
       "8   Literally one of the worst packing jobs I’ve s...  242  \n",
       "12  New to this brand & as a huge fan & collector ...  231  \n",
       "15  My review is whacked bc I received the wrong p...  245  \n",
       "17  I’m a book freak & I adore mine!  I use founta...  212  "
      ]
     },
     "execution_count": 14,
     "metadata": {},
     "output_type": "execute_result"
    }
   ],
   "source": [
    "df_triplets.head()"
   ]
  },
  {
   "cell_type": "code",
   "execution_count": 32,
   "id": "8f7518ab-c85e-4e56-ac6b-de53f7f8b2fc",
   "metadata": {},
   "outputs": [
    {
     "data": {
      "text/html": [
       "<div>\n",
       "<style scoped>\n",
       "    .dataframe tbody tr th:only-of-type {\n",
       "        vertical-align: middle;\n",
       "    }\n",
       "\n",
       "    .dataframe tbody tr th {\n",
       "        vertical-align: top;\n",
       "    }\n",
       "\n",
       "    .dataframe thead th {\n",
       "        text-align: right;\n",
       "    }\n",
       "</style>\n",
       "<table border=\"1\" class=\"dataframe\">\n",
       "  <thead>\n",
       "    <tr style=\"text-align: right;\">\n",
       "      <th></th>\n",
       "      <th>query_idx</th>\n",
       "      <th>text</th>\n",
       "    </tr>\n",
       "  </thead>\n",
       "  <tbody>\n",
       "    <tr>\n",
       "      <th>0</th>\n",
       "      <td>0</td>\n",
       "      <td>Lovely ink. Writes well. The right amount of w...</td>\n",
       "    </tr>\n",
       "    <tr>\n",
       "      <th>1</th>\n",
       "      <td>1</td>\n",
       "      <td>Literally one of the worst packing jobs I’ve s...</td>\n",
       "    </tr>\n",
       "    <tr>\n",
       "      <th>2</th>\n",
       "      <td>2</td>\n",
       "      <td>New to this brand &amp; as a huge fan &amp; collector ...</td>\n",
       "    </tr>\n",
       "    <tr>\n",
       "      <th>3</th>\n",
       "      <td>3</td>\n",
       "      <td>My review is whacked bc I received the wrong p...</td>\n",
       "    </tr>\n",
       "    <tr>\n",
       "      <th>4</th>\n",
       "      <td>4</td>\n",
       "      <td>I’m a book freak &amp; I adore mine!  I use founta...</td>\n",
       "    </tr>\n",
       "  </tbody>\n",
       "</table>\n",
       "</div>"
      ],
      "text/plain": [
       "   query_idx                                               text\n",
       "0          0  Lovely ink. Writes well. The right amount of w...\n",
       "1          1  Literally one of the worst packing jobs I’ve s...\n",
       "2          2  New to this brand & as a huge fan & collector ...\n",
       "3          3  My review is whacked bc I received the wrong p...\n",
       "4          4  I’m a book freak & I adore mine!  I use founta..."
      ]
     },
     "execution_count": 32,
     "metadata": {},
     "output_type": "execute_result"
    }
   ],
   "source": [
    "df_query = {\"query_idx\": [], \"text\": []}\n",
    "\n",
    "for i, t in enumerate(df_triplets.drop_duplicates(subset=['user_id', 'text'])['text']):\n",
    "    df_query['query_idx'].append(i)\n",
    "    df_query['text'].append(t)\n",
    "\n",
    "df_query = pd.DataFrame(df_query)\n",
    "df_query.head()"
   ]
  },
  {
   "cell_type": "code",
   "execution_count": 33,
   "id": "100a6d62-c5ec-46db-9151-e73ad3fff6ca",
   "metadata": {},
   "outputs": [],
   "source": "df_query.to_csv(\"./data/queries.tsv\", sep='\\t', index=False)"
  },
  {
   "cell_type": "code",
   "execution_count": 34,
   "id": "1522cbe0-08af-48b7-8019-82e11a654c11",
   "metadata": {},
   "outputs": [
    {
     "data": {
      "text/html": [
       "<div>\n",
       "<style scoped>\n",
       "    .dataframe tbody tr th:only-of-type {\n",
       "        vertical-align: middle;\n",
       "    }\n",
       "\n",
       "    .dataframe tbody tr th {\n",
       "        vertical-align: top;\n",
       "    }\n",
       "\n",
       "    .dataframe thead th {\n",
       "        text-align: right;\n",
       "    }\n",
       "</style>\n",
       "<table border=\"1\" class=\"dataframe\">\n",
       "  <thead>\n",
       "    <tr style=\"text-align: right;\">\n",
       "      <th></th>\n",
       "      <th>user_idx</th>\n",
       "      <th>user_id</th>\n",
       "    </tr>\n",
       "  </thead>\n",
       "  <tbody>\n",
       "    <tr>\n",
       "      <th>0</th>\n",
       "      <td>0</td>\n",
       "      <td>AFKZENTNBQ7A7V7UXW5JJI6UGRYQ</td>\n",
       "    </tr>\n",
       "    <tr>\n",
       "      <th>1</th>\n",
       "      <td>1</td>\n",
       "      <td>AGGZ357AO26RQZVRLGU4D4N52DZQ</td>\n",
       "    </tr>\n",
       "    <tr>\n",
       "      <th>2</th>\n",
       "      <td>2</td>\n",
       "      <td>AEFKF6R2GUSK2AWPSWRR4ZO36JVQ</td>\n",
       "    </tr>\n",
       "    <tr>\n",
       "      <th>3</th>\n",
       "      <td>3</td>\n",
       "      <td>AFSKPY37N3C43SOI5IEXEK5JSIYA</td>\n",
       "    </tr>\n",
       "    <tr>\n",
       "      <th>4</th>\n",
       "      <td>4</td>\n",
       "      <td>AHGAOIZVODNHYMNCBV4DECZH42UQ</td>\n",
       "    </tr>\n",
       "  </tbody>\n",
       "</table>\n",
       "</div>"
      ],
      "text/plain": [
       "   user_idx                       user_id\n",
       "0         0  AFKZENTNBQ7A7V7UXW5JJI6UGRYQ\n",
       "1         1  AGGZ357AO26RQZVRLGU4D4N52DZQ\n",
       "2         2  AEFKF6R2GUSK2AWPSWRR4ZO36JVQ\n",
       "3         3  AFSKPY37N3C43SOI5IEXEK5JSIYA\n",
       "4         4  AHGAOIZVODNHYMNCBV4DECZH42UQ"
      ]
     },
     "execution_count": 34,
     "metadata": {},
     "output_type": "execute_result"
    }
   ],
   "source": [
    "df_user = {\"user_idx\": [], \"user_id\": []}\n",
    "\n",
    "for i, t in enumerate(df_triplets.drop_duplicates(subset=['user_id'])['user_id']):\n",
    "    df_user['user_idx'].append(i)\n",
    "    df_user['user_id'].append(t)\n",
    "\n",
    "df_user = pd.DataFrame(df_user)\n",
    "df_user.head()"
   ]
  },
  {
   "cell_type": "code",
   "execution_count": 35,
   "id": "032197da-3462-4128-a3a2-0fd71f4b1c6f",
   "metadata": {},
   "outputs": [],
   "source": "df_user.to_csv(\"./data/user_idxs.tsv\", sep='\\t', index=False)"
  },
  {
   "cell_type": "code",
   "execution_count": 36,
   "id": "aa366819-8644-49aa-9adc-599cbc7c4c3a",
   "metadata": {},
   "outputs": [
    {
     "data": {
      "text/html": [
       "<div>\n",
       "<style scoped>\n",
       "    .dataframe tbody tr th:only-of-type {\n",
       "        vertical-align: middle;\n",
       "    }\n",
       "\n",
       "    .dataframe tbody tr th {\n",
       "        vertical-align: top;\n",
       "    }\n",
       "\n",
       "    .dataframe thead th {\n",
       "        text-align: right;\n",
       "    }\n",
       "</style>\n",
       "<table border=\"1\" class=\"dataframe\">\n",
       "  <thead>\n",
       "    <tr style=\"text-align: right;\">\n",
       "      <th></th>\n",
       "      <th>item_idx</th>\n",
       "      <th>asin</th>\n",
       "    </tr>\n",
       "  </thead>\n",
       "  <tbody>\n",
       "    <tr>\n",
       "      <th>0</th>\n",
       "      <td>0</td>\n",
       "      <td>B01AHHL4X2</td>\n",
       "    </tr>\n",
       "    <tr>\n",
       "      <th>1</th>\n",
       "      <td>1</td>\n",
       "      <td>B00KG08EYS</td>\n",
       "    </tr>\n",
       "    <tr>\n",
       "      <th>2</th>\n",
       "      <td>2</td>\n",
       "      <td>B00FWRVUJ6</td>\n",
       "    </tr>\n",
       "    <tr>\n",
       "      <th>3</th>\n",
       "      <td>3</td>\n",
       "      <td>B06XY7YNHG</td>\n",
       "    </tr>\n",
       "    <tr>\n",
       "      <th>4</th>\n",
       "      <td>4</td>\n",
       "      <td>B07T4NX5F6</td>\n",
       "    </tr>\n",
       "  </tbody>\n",
       "</table>\n",
       "</div>"
      ],
      "text/plain": [
       "   item_idx        asin\n",
       "0         0  B01AHHL4X2\n",
       "1         1  B00KG08EYS\n",
       "2         2  B00FWRVUJ6\n",
       "3         3  B06XY7YNHG\n",
       "4         4  B07T4NX5F6"
      ]
     },
     "execution_count": 36,
     "metadata": {},
     "output_type": "execute_result"
    }
   ],
   "source": [
    "df_item = {\"item_idx\": [], \"asin\": []}\n",
    "\n",
    "for i, t in enumerate(df_triplets.drop_duplicates(subset=['asin'])['asin']):\n",
    "    df_item['item_idx'].append(i)\n",
    "    df_item['asin'].append(t)\n",
    "\n",
    "df_item = pd.DataFrame(df_item)\n",
    "df_item.head()"
   ]
  },
  {
   "cell_type": "code",
   "execution_count": 37,
   "id": "abdf3faa-ec84-42ab-9c37-bb81f2fd33e0",
   "metadata": {},
   "outputs": [],
   "source": "df_item.to_csv(\"./data/item_idxs.tsv\", sep='\\t', index=False)"
  },
  {
   "cell_type": "code",
   "execution_count": 38,
   "id": "16287928-2874-4ae9-942f-4a8885015fac",
   "metadata": {},
   "outputs": [],
   "source": [
    "asin_to_itemidx = {a: i for i, a in zip(df_item['item_idx'], df_item['asin'])}\n",
    "userid_to_useridx = {a: i for i, a in zip(df_user['user_idx'], df_user['user_id'])}\n",
    "text_to_queryidx = {a: i for i, a in zip(df_query['query_idx'], df_query['text'])}"
   ]
  },
  {
   "cell_type": "code",
   "execution_count": 39,
   "id": "168be290-f4df-47cd-90ab-995bc1e7ec92",
   "metadata": {},
   "outputs": [],
   "source": [
    "def get_user_idx(row):\n",
    "    return userid_to_useridx[row]\n",
    "\n",
    "df_triplets['user_idx'] = df_triplets['user_id'].apply(get_user_idx)"
   ]
  },
  {
   "cell_type": "code",
   "execution_count": 40,
   "id": "b9f184cf-3800-4dee-b18e-004cb4646ca8",
   "metadata": {},
   "outputs": [],
   "source": [
    "def get_item_idx(row):\n",
    "    return asin_to_itemidx[row]\n",
    "\n",
    "df_triplets['item_idx'] = df_triplets['asin'].apply(get_item_idx)"
   ]
  },
  {
   "cell_type": "code",
   "execution_count": 41,
   "id": "8d517aa3-dd72-4bf0-bdcc-904d2e8caac9",
   "metadata": {},
   "outputs": [],
   "source": [
    "def get_query_idx(row):\n",
    "    return text_to_queryidx[row]\n",
    "\n",
    "df_triplets['query_idx'] = df_triplets['text'].apply(get_query_idx)"
   ]
  },
  {
   "cell_type": "code",
   "execution_count": 42,
   "id": "0001fac5-f781-4036-a717-0465bacbe5fc",
   "metadata": {},
   "outputs": [
    {
     "data": {
      "text/plain": [
       "(0, 586719)"
      ]
     },
     "execution_count": 42,
     "metadata": {},
     "output_type": "execute_result"
    }
   ],
   "source": [
    "df_g = df_triplets.groupby(by=['query_idx', 'user_idx']).count().reset_index()\n",
    "len(df_g[df_g['item_idx'] > 1]), len(df_g[df_g['item_idx'] <= 1])"
   ]
  },
  {
   "cell_type": "code",
   "execution_count": 43,
   "id": "fa20bbc4-a4d7-4699-9a0e-558f4c807837",
   "metadata": {},
   "outputs": [
    {
     "data": {
      "text/html": [
       "<div>\n",
       "<style scoped>\n",
       "    .dataframe tbody tr th:only-of-type {\n",
       "        vertical-align: middle;\n",
       "    }\n",
       "\n",
       "    .dataframe tbody tr th {\n",
       "        vertical-align: top;\n",
       "    }\n",
       "\n",
       "    .dataframe thead th {\n",
       "        text-align: right;\n",
       "    }\n",
       "</style>\n",
       "<table border=\"1\" class=\"dataframe\">\n",
       "  <thead>\n",
       "    <tr style=\"text-align: right;\">\n",
       "      <th></th>\n",
       "      <th>user_id</th>\n",
       "      <th>asin</th>\n",
       "      <th>text</th>\n",
       "      <th>len</th>\n",
       "      <th>user_idx</th>\n",
       "      <th>item_idx</th>\n",
       "      <th>query_idx</th>\n",
       "    </tr>\n",
       "  </thead>\n",
       "  <tbody>\n",
       "    <tr>\n",
       "      <th>70737</th>\n",
       "      <td>AEJ2WLJ5HJELSEX7WOJDPVHA66WQ</td>\n",
       "      <td>B000Q2ZYDA</td>\n",
       "      <td>My husband and I use this board to keep track ...</td>\n",
       "      <td>51</td>\n",
       "      <td>1301</td>\n",
       "      <td>12590</td>\n",
       "      <td>19845</td>\n",
       "    </tr>\n",
       "    <tr>\n",
       "      <th>70739</th>\n",
       "      <td>AEJ2WLJ5HJELSEX7WOJDPVHA66WQ</td>\n",
       "      <td>B0091G9FGO</td>\n",
       "      <td>I bought this card for my daughter in law to b...</td>\n",
       "      <td>21</td>\n",
       "      <td>1301</td>\n",
       "      <td>5381</td>\n",
       "      <td>19846</td>\n",
       "    </tr>\n",
       "    <tr>\n",
       "      <th>70741</th>\n",
       "      <td>AEJ2WLJ5HJELSEX7WOJDPVHA66WQ</td>\n",
       "      <td>B0024KI8PS</td>\n",
       "      <td>Every year I send my step daughter and her dau...</td>\n",
       "      <td>54</td>\n",
       "      <td>1301</td>\n",
       "      <td>10311</td>\n",
       "      <td>19847</td>\n",
       "    </tr>\n",
       "    <tr>\n",
       "      <th>70742</th>\n",
       "      <td>AEJ2WLJ5HJELSEX7WOJDPVHA66WQ</td>\n",
       "      <td>B005KQB22E</td>\n",
       "      <td>I love these socks.  I bought a pair at Big Fi...</td>\n",
       "      <td>44</td>\n",
       "      <td>1301</td>\n",
       "      <td>12591</td>\n",
       "      <td>19848</td>\n",
       "    </tr>\n",
       "    <tr>\n",
       "      <th>70743</th>\n",
       "      <td>AEJ2WLJ5HJELSEX7WOJDPVHA66WQ</td>\n",
       "      <td>B005KQB3MI</td>\n",
       "      <td>Yeah ... I'm all ready for winder and cold wea...</td>\n",
       "      <td>47</td>\n",
       "      <td>1301</td>\n",
       "      <td>12592</td>\n",
       "      <td>19849</td>\n",
       "    </tr>\n",
       "  </tbody>\n",
       "</table>\n",
       "</div>"
      ],
      "text/plain": [
       "                            user_id        asin  \\\n",
       "70737  AEJ2WLJ5HJELSEX7WOJDPVHA66WQ  B000Q2ZYDA   \n",
       "70739  AEJ2WLJ5HJELSEX7WOJDPVHA66WQ  B0091G9FGO   \n",
       "70741  AEJ2WLJ5HJELSEX7WOJDPVHA66WQ  B0024KI8PS   \n",
       "70742  AEJ2WLJ5HJELSEX7WOJDPVHA66WQ  B005KQB22E   \n",
       "70743  AEJ2WLJ5HJELSEX7WOJDPVHA66WQ  B005KQB3MI   \n",
       "\n",
       "                                                    text  len  user_idx  \\\n",
       "70737  My husband and I use this board to keep track ...   51      1301   \n",
       "70739  I bought this card for my daughter in law to b...   21      1301   \n",
       "70741  Every year I send my step daughter and her dau...   54      1301   \n",
       "70742  I love these socks.  I bought a pair at Big Fi...   44      1301   \n",
       "70743  Yeah ... I'm all ready for winder and cold wea...   47      1301   \n",
       "\n",
       "       item_idx  query_idx  \n",
       "70737     12590      19845  \n",
       "70739      5381      19846  \n",
       "70741     10311      19847  \n",
       "70742     12591      19848  \n",
       "70743     12592      19849  "
      ]
     },
     "execution_count": 43,
     "metadata": {},
     "output_type": "execute_result"
    }
   ],
   "source": [
    "df_triplets[df_triplets['user_idx'] == 1301]"
   ]
  },
  {
   "cell_type": "code",
   "execution_count": 44,
   "id": "c9eb2e9c-6194-4f12-bde8-70c67c005b30",
   "metadata": {},
   "outputs": [
    {
     "data": {
      "text/html": [
       "<div>\n",
       "<style scoped>\n",
       "    .dataframe tbody tr th:only-of-type {\n",
       "        vertical-align: middle;\n",
       "    }\n",
       "\n",
       "    .dataframe tbody tr th {\n",
       "        vertical-align: top;\n",
       "    }\n",
       "\n",
       "    .dataframe thead th {\n",
       "        text-align: right;\n",
       "    }\n",
       "</style>\n",
       "<table border=\"1\" class=\"dataframe\">\n",
       "  <thead>\n",
       "    <tr style=\"text-align: right;\">\n",
       "      <th></th>\n",
       "      <th>query_idx</th>\n",
       "      <th>user_idx</th>\n",
       "      <th>item_idx</th>\n",
       "    </tr>\n",
       "  </thead>\n",
       "  <tbody>\n",
       "    <tr>\n",
       "      <th>0</th>\n",
       "      <td>0</td>\n",
       "      <td>0</td>\n",
       "      <td>[0]</td>\n",
       "    </tr>\n",
       "    <tr>\n",
       "      <th>1</th>\n",
       "      <td>1</td>\n",
       "      <td>0</td>\n",
       "      <td>[1]</td>\n",
       "    </tr>\n",
       "    <tr>\n",
       "      <th>2</th>\n",
       "      <td>2</td>\n",
       "      <td>0</td>\n",
       "      <td>[2]</td>\n",
       "    </tr>\n",
       "    <tr>\n",
       "      <th>3</th>\n",
       "      <td>3</td>\n",
       "      <td>0</td>\n",
       "      <td>[3]</td>\n",
       "    </tr>\n",
       "    <tr>\n",
       "      <th>4</th>\n",
       "      <td>4</td>\n",
       "      <td>0</td>\n",
       "      <td>[4]</td>\n",
       "    </tr>\n",
       "  </tbody>\n",
       "</table>\n",
       "</div>"
      ],
      "text/plain": [
       "   query_idx  user_idx item_idx\n",
       "0          0         0      [0]\n",
       "1          1         0      [1]\n",
       "2          2         0      [2]\n",
       "3          3         0      [3]\n",
       "4          4         0      [4]"
      ]
     },
     "execution_count": 44,
     "metadata": {},
     "output_type": "execute_result"
    }
   ],
   "source": [
    "df_data = df_triplets.groupby(by=['query_idx', 'user_idx'])['item_idx'].apply(lambda x: list(x)[:1]).reset_index()\n",
    "df_data.head()"
   ]
  },
  {
   "cell_type": "code",
   "execution_count": 45,
   "id": "446be0c3-4a24-4e8e-af15-1b73f475afd6",
   "metadata": {},
   "outputs": [],
   "source": [
    "df_data['item_idxs'] = df_data['item_idx']"
   ]
  },
  {
   "cell_type": "code",
   "execution_count": 46,
   "id": "c7525925-255d-44d1-b09f-c5b44bc4376a",
   "metadata": {},
   "outputs": [],
   "source": [
    "df_data = df_data[['query_idx', 'user_idx', 'item_idxs']]"
   ]
  },
  {
   "cell_type": "code",
   "execution_count": 47,
   "id": "357f22e9-6b81-4b61-bfcf-48aeff65972c",
   "metadata": {},
   "outputs": [],
   "source": [
    "train, test = train_test_split(df_data, test_size=0.2, stratify=df_data['user_idx'], random_state=0)\n",
    "val, test = train_test_split(test, test_size=0.5, random_state=0) # stratify=test['user_idx'],"
   ]
  },
  {
   "cell_type": "code",
   "execution_count": 48,
   "id": "f30cb1ed-c0a9-4973-9768-e10112400419",
   "metadata": {},
   "outputs": [
    {
     "data": {
      "text/plain": [
       "(469375, 58672, 58672)"
      ]
     },
     "execution_count": 48,
     "metadata": {},
     "output_type": "execute_result"
    }
   ],
   "source": [
    "len(train), len(val), len(test)"
   ]
  },
  {
   "cell_type": "code",
   "execution_count": 49,
   "id": "bdf2f4449d09633e",
   "metadata": {},
   "outputs": [],
   "source": [
    "train.to_csv(\"./data/training/train_split.tsv\", sep='\\t', index=False)\n",
    "val.to_csv(\"./data/training/val_split.tsv\", sep='\\t', index=False)\n",
    "test.to_csv(\"./data/training/test_split.tsv\", sep='\\t', index=False)"
   ]
  },
  {
   "cell_type": "code",
   "execution_count": null,
   "id": "303afd0e-81d3-4113-98a1-f4f54527c826",
   "metadata": {},
   "outputs": [],
   "source": []
  }
 ],
 "metadata": {
  "kernelspec": {
   "display_name": "Python 3 (ipykernel)",
   "language": "python",
   "name": "python3"
  },
  "language_info": {
   "codemirror_mode": {
    "name": "ipython",
    "version": 3
   },
   "file_extension": ".py",
   "mimetype": "text/x-python",
   "name": "python",
   "nbconvert_exporter": "python",
   "pygments_lexer": "ipython3",
   "version": "3.10.12"
  }
 },
 "nbformat": 4,
 "nbformat_minor": 5
}
